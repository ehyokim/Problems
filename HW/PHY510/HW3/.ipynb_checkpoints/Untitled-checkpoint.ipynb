{
 "cells": [
  {
   "cell_type": "code",
   "execution_count": null,
   "id": "4e93b04e",
   "metadata": {},
   "outputs": [],
   "source": [
    "M = Matrix([[2,0,1,0,-1], [0,2,0,0,0],[0,0,1,0,0],[1,0,1,1,-1],[0,0,0,0,1]])"
   ]
  },
  {
   "cell_type": "code",
   "execution_count": 3,
   "id": "d3568d3d",
   "metadata": {},
   "outputs": [
    {
     "data": {
      "text/plain": [
       "[2, 2, 1, 1, 1]"
      ]
     },
     "execution_count": 3,
     "metadata": {},
     "output_type": "execute_result"
    }
   ],
   "source": [
    "M.eigenvalues(\n",
    ")"
   ]
  },
  {
   "cell_type": "code",
   "execution_count": null,
   "id": "164e4abb",
   "metadata": {},
   "outputs": [],
   "source": [
    "M2 = Matrix([[0,1,0,1,0],[-1,3,-1,0,1],[0,0,1,0,0],[-1,1,1,2,0],[-1,0,0,1,1]])"
   ]
  }
 ],
 "metadata": {
  "kernelspec": {
   "display_name": "SageMath 9.6",
   "language": "sage",
   "name": "sagemath-9.6"
  },
  "language_info": {
   "codemirror_mode": {
    "name": "ipython",
    "version": 3
   },
   "file_extension": ".py",
   "mimetype": "text/x-python",
   "name": "python",
   "nbconvert_exporter": "python",
   "pygments_lexer": "ipython3",
   "version": "3.10.3"
  }
 },
 "nbformat": 4,
 "nbformat_minor": 5
}
