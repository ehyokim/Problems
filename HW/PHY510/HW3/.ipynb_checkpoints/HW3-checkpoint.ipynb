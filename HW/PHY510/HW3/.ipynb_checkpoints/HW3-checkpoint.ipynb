{
 "cells": [
  {
   "cell_type": "code",
   "execution_count": 1,
   "id": "6ae3ca45",
   "metadata": {},
   "outputs": [],
   "source": [
    "M1 = Matrix([[2,0,1,0,-1], [0,2,0,0,0],[0,0,1,0,0],[1,0,1,1,-1],[0,0,0,0,1]])"
   ]
  },
  {
   "cell_type": "code",
   "execution_count": 2,
   "id": "35c49d8a",
   "metadata": {},
   "outputs": [
    {
     "data": {
      "text/plain": [
       "[(2,\n",
       "  [\n",
       "  (1, 0, 0, 1, 0),\n",
       "  (0, 1, 0, 0, 0)\n",
       "  ],\n",
       "  2),\n",
       " (1,\n",
       "  [\n",
       "  (1, 0, 0, 0, 1),\n",
       "  (0, 0, 1, 0, 1),\n",
       "  (0, 0, 0, 1, 0)\n",
       "  ],\n",
       "  3)]"
      ]
     },
     "execution_count": 2,
     "metadata": {},
     "output_type": "execute_result"
    }
   ],
   "source": [
    "M1.eigenvectors_right()"
   ]
  },
  {
   "cell_type": "code",
   "execution_count": 3,
   "id": "e9f82dc7",
   "metadata": {},
   "outputs": [],
   "source": [
    "M2 = Matrix([[0,1,0,1,0],[-1,3,-1,0,1],[0,0,1,0,0],[-1,1,1,2,0],[-1,0,0,1,1]])"
   ]
  },
  {
   "cell_type": "code",
   "execution_count": 4,
   "id": "baa000d8",
   "metadata": {},
   "outputs": [
    {
     "data": {
      "text/plain": [
       "[(2,\n",
       "  [\n",
       "  (1, 1, 0, 1, 0)\n",
       "  ],\n",
       "  2),\n",
       " (1,\n",
       "  [\n",
       "  (1, 0, 0, 1, 1)\n",
       "  ],\n",
       "  3)]"
      ]
     },
     "execution_count": 4,
     "metadata": {},
     "output_type": "execute_result"
    }
   ],
   "source": [
    "M2.eigenvectors_right()"
   ]
  },
  {
   "cell_type": "markdown",
   "id": "035a2922",
   "metadata": {},
   "source": [
    "## Backsolving for Basis of First Eigenspace"
   ]
  },
  {
   "cell_type": "code",
   "execution_count": 5,
   "id": "e23e9b8f",
   "metadata": {},
   "outputs": [
    {
     "data": {
      "text/plain": [
       "(0, 1, 0, 0, 0)"
      ]
     },
     "execution_count": 5,
     "metadata": {},
     "output_type": "execute_result"
    }
   ],
   "source": [
    "x2 = (M2 - 2) \\ vector([1, 1, 0, 1, 0]) ; x2"
   ]
  },
  {
   "cell_type": "markdown",
   "id": "2ddd6db0",
   "metadata": {},
   "source": [
    "## Backsolving for Basis of Second Eigenspace"
   ]
  },
  {
   "cell_type": "code",
   "execution_count": 7,
   "id": "1bd52f2b",
   "metadata": {},
   "outputs": [
    {
     "data": {
      "text/plain": [
       "(0, 0, 0, 1, 0)"
      ]
     },
     "execution_count": 7,
     "metadata": {},
     "output_type": "execute_result"
    }
   ],
   "source": [
    "y1 = (M2 - 1) \\ vector([1, 0, 0, 1, 1]) ; y1"
   ]
  },
  {
   "cell_type": "code",
   "execution_count": 8,
   "id": "e42a848c",
   "metadata": {},
   "outputs": [
    {
     "data": {
      "text/plain": [
       "(-1, 0, 1, -1, 0)"
      ]
     },
     "execution_count": 8,
     "metadata": {},
     "output_type": "execute_result"
    }
   ],
   "source": [
    "y2 = (M2 - 1) \\ vector([0, 0, 0, 1, 0]) ; y2"
   ]
  },
  {
   "cell_type": "code",
   "execution_count": 17,
   "id": "af1c66e7",
   "metadata": {},
   "outputs": [
    {
     "data": {
      "text/plain": [
       "[ 1  0  1  0 -1]\n",
       "[ 1  1  0  0  0]\n",
       "[ 0  0  0  0  1]\n",
       "[ 1  0  1  1 -1]\n",
       "[ 0  0  1  0  0]"
      ]
     },
     "execution_count": 17,
     "metadata": {},
     "output_type": "execute_result"
    }
   ],
   "source": [
    "Q2 = Matrix([[1, 1, 0, 1, 0], [0, 1, 0, 0, 0], [1, 0, 0, 1, 1], [0, 0, 0, 1, 0], [-1, 0, 1, -1, 0]]).transpose() ; Q2"
   ]
  },
  {
   "cell_type": "code",
   "execution_count": 18,
   "id": "0525e1e8",
   "metadata": {},
   "outputs": [
    {
     "data": {
      "text/plain": [
       "[2 1 0 0 0]\n",
       "[0 2 0 0 0]\n",
       "[0 0 1 1 0]\n",
       "[0 0 0 1 1]\n",
       "[0 0 0 0 1]"
      ]
     },
     "execution_count": 18,
     "metadata": {},
     "output_type": "execute_result"
    }
   ],
   "source": [
    "Q2.inverse() * M2 * Q2"
   ]
  }
 ],
 "metadata": {
  "kernelspec": {
   "display_name": "SageMath 9.6",
   "language": "sage",
   "name": "sagemath-9.6"
  },
  "language_info": {
   "codemirror_mode": {
    "name": "ipython",
    "version": 3
   },
   "file_extension": ".py",
   "mimetype": "text/x-python",
   "name": "python",
   "nbconvert_exporter": "python",
   "pygments_lexer": "ipython3",
   "version": "3.10.3"
  }
 },
 "nbformat": 4,
 "nbformat_minor": 5
}
