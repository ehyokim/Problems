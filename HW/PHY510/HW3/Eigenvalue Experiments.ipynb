{
 "cells": [
  {
   "cell_type": "code",
   "execution_count": 1,
   "id": "9357feb8",
   "metadata": {},
   "outputs": [],
   "source": [
    "H = Matrix([[1/sqrt(2),1/sqrt(2)],[1/sqrt(2),-1/sqrt(2)]])"
   ]
  },
  {
   "cell_type": "code",
   "execution_count": 2,
   "id": "5af4e2c3",
   "metadata": {},
   "outputs": [
    {
     "data": {
      "text/plain": [
       "[-1, 1]"
      ]
     },
     "execution_count": 2,
     "metadata": {},
     "output_type": "execute_result"
    }
   ],
   "source": [
    "H.eigenvalues()"
   ]
  },
  {
   "cell_type": "code",
   "execution_count": 3,
   "id": "57a2d6dc",
   "metadata": {},
   "outputs": [
    {
     "data": {
      "text/plain": [
       "[(-1, [(1, -sqrt(2) - 1)], 1), (1, [(1, sqrt(2) - 1)], 1)]"
      ]
     },
     "execution_count": 3,
     "metadata": {},
     "output_type": "execute_result"
    }
   ],
   "source": [
    "H.eigenvectors_right()"
   ]
  }
 ],
 "metadata": {
  "kernelspec": {
   "display_name": "SageMath 9.6",
   "language": "sage",
   "name": "sagemath-9.6"
  },
  "language_info": {
   "codemirror_mode": {
    "name": "ipython",
    "version": 3
   },
   "file_extension": ".py",
   "mimetype": "text/x-python",
   "name": "python",
   "nbconvert_exporter": "python",
   "pygments_lexer": "ipython3",
   "version": "3.10.3"
  }
 },
 "nbformat": 4,
 "nbformat_minor": 5
}
