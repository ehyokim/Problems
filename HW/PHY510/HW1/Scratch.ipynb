{
 "cells": [
  {
   "cell_type": "code",
   "execution_count": 1,
   "id": "4a4fbcb1",
   "metadata": {},
   "outputs": [],
   "source": [
    "Permutations.options.mult='r2l'"
   ]
  },
  {
   "cell_type": "code",
   "execution_count": 2,
   "id": "053bb109",
   "metadata": {},
   "outputs": [],
   "source": [
    "G = SymmetricGroup(7)"
   ]
  },
  {
   "cell_type": "code",
   "execution_count": 3,
   "id": "61081d8c",
   "metadata": {},
   "outputs": [],
   "source": [
    "p1 =  G('(1,2,3)')"
   ]
  },
  {
   "cell_type": "code",
   "execution_count": 4,
   "id": "4ecd3331",
   "metadata": {},
   "outputs": [],
   "source": [
    "p2 = G('(3,4,7)')"
   ]
  },
  {
   "cell_type": "code",
   "execution_count": 8,
   "id": "44d45d5d",
   "metadata": {},
   "outputs": [],
   "source": [
    "p3 = G('(4,5,6)')"
   ]
  },
  {
   "cell_type": "code",
   "execution_count": 9,
   "id": "e7311e73",
   "metadata": {},
   "outputs": [],
   "source": [
    "p4 = G('(1,4,5)')"
   ]
  },
  {
   "cell_type": "code",
   "execution_count": 10,
   "id": "19a74d96",
   "metadata": {},
   "outputs": [
    {
     "data": {
      "text/plain": [
       "(1,5,2,3,4,6,7)"
      ]
     },
     "execution_count": 10,
     "metadata": {},
     "output_type": "execute_result"
    }
   ],
   "source": [
    "p4 * p3 * p2 * p1"
   ]
  },
  {
   "cell_type": "code",
   "execution_count": 11,
   "id": "90f4068d",
   "metadata": {},
   "outputs": [],
   "source": [
    "r1 = G('(3,4)')"
   ]
  },
  {
   "cell_type": "code",
   "execution_count": 12,
   "id": "63a287ca",
   "metadata": {},
   "outputs": [],
   "source": [
    "r2 = G('(5,6,2)')"
   ]
  },
  {
   "cell_type": "code",
   "execution_count": 13,
   "id": "c2e7657c",
   "metadata": {},
   "outputs": [],
   "source": [
    "r3 = G('(2,7,3)')"
   ]
  },
  {
   "cell_type": "code",
   "execution_count": 14,
   "id": "76e73ed2",
   "metadata": {},
   "outputs": [
    {
     "data": {
      "text/plain": [
       "(2,7,4,3,5,6)"
      ]
     },
     "execution_count": 14,
     "metadata": {},
     "output_type": "execute_result"
    }
   ],
   "source": [
    "r3 * r2 * r1"
   ]
  }
 ],
 "metadata": {
  "kernelspec": {
   "display_name": "SageMath 9.6",
   "language": "sage",
   "name": "sagemath-9.6"
  },
  "language_info": {
   "codemirror_mode": {
    "name": "ipython",
    "version": 3
   },
   "file_extension": ".py",
   "mimetype": "text/x-python",
   "name": "python",
   "nbconvert_exporter": "python",
   "pygments_lexer": "ipython3",
   "version": "3.10.3"
  }
 },
 "nbformat": 4,
 "nbformat_minor": 5
}
