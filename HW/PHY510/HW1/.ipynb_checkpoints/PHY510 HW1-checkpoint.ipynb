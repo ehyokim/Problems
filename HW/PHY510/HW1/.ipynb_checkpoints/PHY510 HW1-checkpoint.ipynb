{
 "cells": [
  {
   "cell_type": "code",
   "execution_count": 1,
   "id": "26860234",
   "metadata": {},
   "outputs": [],
   "source": [
    "A = PermutationGroupElement([2,9,6,5,7,3,8,4,1])"
   ]
  },
  {
   "cell_type": "code",
   "execution_count": 2,
   "id": "9b772b8c",
   "metadata": {},
   "outputs": [],
   "source": [
    "B = PermutationGroupElement([2,6,9,5,1,3,7,8,4])"
   ]
  },
  {
   "cell_type": "code",
   "execution_count": 5,
   "id": "17cca47f",
   "metadata": {},
   "outputs": [
    {
     "data": {
      "text/plain": [
       "[(1, 2, 9), (3, 6), (4, 5, 7, 8)]"
      ]
     },
     "execution_count": 5,
     "metadata": {},
     "output_type": "execute_result"
    }
   ],
   "source": [
    "A.cycle_tuples(singletons=True)"
   ]
  },
  {
   "cell_type": "code",
   "execution_count": 6,
   "id": "4c2edd1d",
   "metadata": {},
   "outputs": [
    {
     "data": {
      "text/plain": [
       "[(1, 2, 6, 3, 9, 4, 5), (7,), (8,)]"
      ]
     },
     "execution_count": 6,
     "metadata": {},
     "output_type": "execute_result"
    }
   ],
   "source": [
    "B.cycle_tuples(singletons=True)"
   ]
  },
  {
   "cell_type": "code",
   "execution_count": 32,
   "id": "f34a137a",
   "metadata": {},
   "outputs": [
    {
     "data": {
      "text/plain": [
       "(1,6,9,2,4)(5,7,8)"
      ]
     },
     "execution_count": 32,
     "metadata": {},
     "output_type": "execute_result"
    }
   ],
   "source": [
    "A * B"
   ]
  },
  {
   "cell_type": "code",
   "execution_count": 8,
   "id": "070847a1",
   "metadata": {},
   "outputs": [
    {
     "data": {
      "text/plain": [
       "(1,9,5,2,3)(4,7,8)"
      ]
     },
     "execution_count": 8,
     "metadata": {},
     "output_type": "execute_result"
    }
   ],
   "source": [
    "B * A"
   ]
  },
  {
   "cell_type": "code",
   "execution_count": 9,
   "id": "0ab08ab6",
   "metadata": {},
   "outputs": [
    {
     "data": {
      "text/plain": [
       "(1,9,2)(3,6)(4,8,7,5)"
      ]
     },
     "execution_count": 9,
     "metadata": {},
     "output_type": "execute_result"
    }
   ],
   "source": [
    "A.inverse()"
   ]
  },
  {
   "cell_type": "code",
   "execution_count": 10,
   "id": "59236358",
   "metadata": {},
   "outputs": [
    {
     "data": {
      "text/plain": [
       "(1,5,4,9,3,6,2)"
      ]
     },
     "execution_count": 10,
     "metadata": {},
     "output_type": "execute_result"
    }
   ],
   "source": [
    "B.inverse()"
   ]
  },
  {
   "cell_type": "code",
   "execution_count": 11,
   "id": "fcbbcd51",
   "metadata": {},
   "outputs": [
    {
     "data": {
      "text/plain": [
       "12"
      ]
     },
     "execution_count": 11,
     "metadata": {},
     "output_type": "execute_result"
    }
   ],
   "source": [
    "A.multiplicative_order()"
   ]
  },
  {
   "cell_type": "code",
   "execution_count": 12,
   "id": "102a3258",
   "metadata": {},
   "outputs": [
    {
     "data": {
      "text/plain": [
       "7"
      ]
     },
     "execution_count": 12,
     "metadata": {},
     "output_type": "execute_result"
    }
   ],
   "source": [
    "B.multiplicative_order()"
   ]
  }
 ],
 "metadata": {
  "kernelspec": {
   "display_name": "SageMath 9.6",
   "language": "sage",
   "name": "sagemath-9.6"
  },
  "language_info": {
   "codemirror_mode": {
    "name": "ipython",
    "version": 3
   },
   "file_extension": ".py",
   "mimetype": "text/x-python",
   "name": "python",
   "nbconvert_exporter": "python",
   "pygments_lexer": "ipython3",
   "version": "3.10.3"
  }
 },
 "nbformat": 4,
 "nbformat_minor": 5
}
