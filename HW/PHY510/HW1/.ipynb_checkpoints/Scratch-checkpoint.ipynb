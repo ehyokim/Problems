{
 "cells": [
  {
   "cell_type": "code",
   "execution_count": 1,
   "id": "8789472f",
   "metadata": {},
   "outputs": [],
   "source": [
    "Permutations.options.mult='r2l'"
   ]
  },
  {
   "cell_type": "code",
   "execution_count": 2,
   "id": "7691d2e5",
   "metadata": {},
   "outputs": [],
   "source": [
    "G = SymmetricGroup(7)"
   ]
  },
  {
   "cell_type": "code",
   "execution_count": 3,
   "id": "f7587d28",
   "metadata": {},
   "outputs": [],
   "source": [
    "p1 =  G('(1,2,3)')"
   ]
  },
  {
   "cell_type": "code",
   "execution_count": 4,
   "id": "f658e281",
   "metadata": {},
   "outputs": [],
   "source": [
    "p2 = G('(3,4,7)')"
   ]
  },
  {
   "cell_type": "code",
   "execution_count": null,
   "id": "d066aeed",
   "metadata": {},
   "outputs": [],
   "source": [
    "p3 = G('(4,5,6)')"
   ]
  },
  {
   "cell_type": "code",
   "execution_count": null,
   "id": "89929115",
   "metadata": {},
   "outputs": [],
   "source": [
    "p4 = G('(1,4,5)')"
   ]
  },
  {
   "cell_type": "code",
   "execution_count": 6,
   "id": "5fa9ec6c",
   "metadata": {},
   "outputs": [
    {
     "data": {
      "text/plain": [
       "(1,2,3,4,7)"
      ]
     },
     "execution_count": 6,
     "metadata": {},
     "output_type": "execute_result"
    }
   ],
   "source": [
    "p4 * p3 * p2 * p1"
   ]
  },
  {
   "cell_type": "code",
   "execution_count": null,
   "id": "697892ce",
   "metadata": {},
   "outputs": [],
   "source": []
  }
 ],
 "metadata": {
  "kernelspec": {
   "display_name": "SageMath 9.6",
   "language": "sage",
   "name": "sagemath-9.6"
  },
  "language_info": {
   "codemirror_mode": {
    "name": "ipython",
    "version": 3
   },
   "file_extension": ".py",
   "mimetype": "text/x-python",
   "name": "python",
   "nbconvert_exporter": "python",
   "pygments_lexer": "ipython3",
   "version": "3.10.3"
  }
 },
 "nbformat": 4,
 "nbformat_minor": 5
}
